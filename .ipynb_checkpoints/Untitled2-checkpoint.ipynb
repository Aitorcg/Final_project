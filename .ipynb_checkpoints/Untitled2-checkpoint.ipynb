{
 "cells": [
  {
   "cell_type": "code",
   "execution_count": 4,
   "id": "98d60544",
   "metadata": {},
   "outputs": [],
   "source": [
    "import pandas as pd"
   ]
  },
  {
   "cell_type": "code",
   "execution_count": null,
   "id": "e5f86d79",
   "metadata": {},
   "outputs": [],
   "source": [
    "pip install geopy"
   ]
  },
  {
   "cell_type": "code",
   "execution_count": 6,
   "id": "e88689dc",
   "metadata": {},
   "outputs": [],
   "source": [
    "from geopy.geocoders import Nominatim\n",
    "geolocator = Nominatim(user_agent=\"aitor.cengon@gmail.com\")"
   ]
  },
  {
   "cell_type": "code",
   "execution_count": null,
   "id": "7597624c",
   "metadata": {},
   "outputs": [],
   "source": []
  },
  {
   "cell_type": "code",
   "execution_count": null,
   "id": "2ab6b0b2",
   "metadata": {},
   "outputs": [],
   "source": []
  },
  {
   "cell_type": "code",
   "execution_count": 7,
   "id": "e9b98a02",
   "metadata": {},
   "outputs": [
    {
     "name": "stdout",
     "output_type": "stream",
     "text": [
      "                                Address  Id   Latitude  Longitude\n",
      "0  Via Benedetto Croce 112, Rome, Italy  01  41.841439  12.484032\n",
      "1  Via Aristide Leonori 46, Rome, Italy  02  41.847634  12.490132\n",
      "2        Viale Marconi 197, Rome, Italy  03  42.025334  12.994355\n"
     ]
    }
   ],
   "source": [
    "\n",
    "from geopy.geocoders import Nominatim\n",
    "data = [\n",
    "        {'Id':'01', 'Address': \"Via Benedetto Croce 112, Rome, Italy\", 'Latitude': None, 'Longitude' :None},\n",
    "        {'Id':'02', 'Address': \"Via Aristide Leonori 46, Rome, Italy\", 'Latitude': None, 'Longitude' :None},\n",
    "        {'Id':'03', 'Address': \"Viale Marconi 197, Rome, Italy\", 'Latitude': None, 'Longitude' :None}\n",
    "       ]\n",
    "df = pd.DataFrame(data)\n",
    "df['city_coord']  = df['Address'].apply(geolocator.geocode)\n",
    "df['Latitude'] = df['city_coord'].apply(lambda x: (x.latitude))\n",
    "df['Longitude'] = df['city_coord'].apply(lambda x: (x.longitude))\n",
    "print(df[['Address',  'Id',   'Latitude','Longitude']])"
   ]
  },
  {
   "cell_type": "code",
   "execution_count": 8,
   "id": "78acaf24",
   "metadata": {
    "scrolled": true
   },
   "outputs": [
    {
     "data": {
      "text/plain": [
       "[{'Id': '01',\n",
       "  'Address': 'Via Benedetto Croce 112, Rome, Italy',\n",
       "  'Latitude': None,\n",
       "  'Longitude': None},\n",
       " {'Id': '02',\n",
       "  'Address': 'Via Aristide Leonori 46, Rome, Italy',\n",
       "  'Latitude': None,\n",
       "  'Longitude': None},\n",
       " {'Id': '03',\n",
       "  'Address': 'Viale Marconi 197, Rome, Italy',\n",
       "  'Latitude': None,\n",
       "  'Longitude': None}]"
      ]
     },
     "execution_count": 8,
     "metadata": {},
     "output_type": "execute_result"
    }
   ],
   "source": [
    "data"
   ]
  },
  {
   "cell_type": "code",
   "execution_count": 10,
   "id": "281d2fb2",
   "metadata": {},
   "outputs": [
    {
     "data": {
      "text/plain": [
       "Location(Via Benedetto Croce, Quartiere XX Ardeatino, Roma, Roma Capitale, Lazio, 00142, Italia, (41.8414386, 12.4840322, 0.0))"
      ]
     },
     "execution_count": 10,
     "metadata": {},
     "output_type": "execute_result"
    }
   ],
   "source": [
    "df.city_coord[0]"
   ]
  },
  {
   "cell_type": "code",
   "execution_count": 6,
   "id": "200b873f",
   "metadata": {},
   "outputs": [
    {
     "name": "stdout",
     "output_type": "stream",
     "text": [
      "                                Address  Id   Latitude  Longitude\n",
      "0                           Rome, Italy  01  41.893320  12.482932\n",
      "1  Via Aristide Leonori 46, Rome, Italy  02  41.847634  12.490132\n",
      "2        Viale Marconi 197, Rome, Italy  03  42.025334  12.994355\n"
     ]
    }
   ],
   "source": [
    "data = [\n",
    "        {'Id':'01', 'Address': \"Rome, Italy\", 'Latitude': None, 'Longitude' :None},\n",
    "        {'Id':'02', 'Address': \"Via Aristide Leonori 46, Rome, Italy\", 'Latitude': None, 'Longitude' :None},\n",
    "        {'Id':'03', 'Address': \"Viale Marconi 197, Rome, Italy\", 'Latitude': None, 'Longitude' :None}\n",
    "       ]\n",
    "df = pd.DataFrame(data)\n",
    "df['city_coord']  = df['Address'].apply(geolocator.geocode)\n",
    "df['Latitude'] = df['city_coord'].apply(lambda x: (x.latitude))\n",
    "df['Longitude'] = df['city_coord'].apply(lambda x: (x.longitude))\n",
    "print(df[['Address', 'Id', 'Latitude','Longitude']])"
   ]
  },
  {
   "cell_type": "code",
   "execution_count": 8,
   "id": "6d17bbae",
   "metadata": {},
   "outputs": [
    {
     "data": {
      "text/plain": [
       "Id             object\n",
       "Address        object\n",
       "Latitude      float64\n",
       "Longitude     float64\n",
       "city_coord     object\n",
       "dtype: object"
      ]
     },
     "execution_count": 8,
     "metadata": {},
     "output_type": "execute_result"
    }
   ],
   "source": [
    "df.dtypes"
   ]
  },
  {
   "cell_type": "code",
   "execution_count": null,
   "id": "97fc8f66",
   "metadata": {},
   "outputs": [],
   "source": [
    "db['city_coord']=db['location'].apply(geolocator.geocode)"
   ]
  },
  {
   "cell_type": "code",
   "execution_count": null,
   "id": "c3b9a0b0",
   "metadata": {},
   "outputs": [],
   "source": []
  },
  {
   "cell_type": "code",
   "execution_count": null,
   "id": "575ba223",
   "metadata": {},
   "outputs": [],
   "source": [
    "db_2=db.location.value_counts()\n",
    "db_2\n"
   ]
  },
  {
   "cell_type": "code",
   "execution_count": null,
   "id": "ebf57a15",
   "metadata": {},
   "outputs": [],
   "source": [
    "pd.DataFrame(db_2)"
   ]
  },
  {
   "cell_type": "code",
   "execution_count": null,
   "id": "bb1b591e",
   "metadata": {},
   "outputs": [],
   "source": []
  },
  {
   "cell_type": "code",
   "execution_count": null,
   "id": "63b77370",
   "metadata": {},
   "outputs": [],
   "source": []
  }
 ],
 "metadata": {
  "kernelspec": {
   "display_name": "Python 3",
   "language": "python",
   "name": "python3"
  },
  "language_info": {
   "codemirror_mode": {
    "name": "ipython",
    "version": 3
   },
   "file_extension": ".py",
   "mimetype": "text/x-python",
   "name": "python",
   "nbconvert_exporter": "python",
   "pygments_lexer": "ipython3",
   "version": "3.8.5"
  }
 },
 "nbformat": 4,
 "nbformat_minor": 5
}
