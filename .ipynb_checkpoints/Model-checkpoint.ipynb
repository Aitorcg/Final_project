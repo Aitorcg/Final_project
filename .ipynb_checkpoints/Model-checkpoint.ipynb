{
 "cells": [
  {
   "cell_type": "code",
   "execution_count": 1,
   "id": "4a554be3",
   "metadata": {},
   "outputs": [],
   "source": [
    "import ppscore as pps\n",
    "import pandas as pd\n",
    "import numpy as np\n",
    "import matplotlib.pyplot as plt\n",
    "import seaborn as sns\n",
    "from scipy.stats import trim_mean, mode, skew, gaussian_kde, pearsonr, spearmanr\n",
    "from folium import Choropleth, Circle, Marker, Icon, Map\n",
    "from folium.plugins import HeatMap, MarkerCluster\n",
    "from sklearn.model_selection import train_test_split\n"
   ]
  },
  {
   "cell_type": "code",
   "execution_count": 2,
   "id": "9338ba31",
   "metadata": {},
   "outputs": [
    {
     "data": {
      "text/html": [
       "<div>\n",
       "<style scoped>\n",
       "    .dataframe tbody tr th:only-of-type {\n",
       "        vertical-align: middle;\n",
       "    }\n",
       "\n",
       "    .dataframe tbody tr th {\n",
       "        vertical-align: top;\n",
       "    }\n",
       "\n",
       "    .dataframe thead th {\n",
       "        text-align: right;\n",
       "    }\n",
       "</style>\n",
       "<table border=\"1\" class=\"dataframe\">\n",
       "  <thead>\n",
       "    <tr style=\"text-align: right;\">\n",
       "      <th></th>\n",
       "      <th>id</th>\n",
       "      <th>title</th>\n",
       "      <th>neighborhood</th>\n",
       "      <th>sq_mt_built</th>\n",
       "      <th>n_rooms</th>\n",
       "      <th>n_bathrooms</th>\n",
       "      <th>n_floors</th>\n",
       "      <th>floor</th>\n",
       "      <th>neighborhood_id</th>\n",
       "      <th>operation</th>\n",
       "      <th>rent_price</th>\n",
       "      <th>buy_price</th>\n",
       "      <th>house_type_id</th>\n",
       "      <th>is_renewal_needed</th>\n",
       "      <th>is_new_development</th>\n",
       "      <th>built_year</th>\n",
       "      <th>has_central_heating</th>\n",
       "      <th>has_individual_heating</th>\n",
       "      <th>has_ac</th>\n",
       "      <th>has_fitted_wardrobes</th>\n",
       "      <th>has_lift</th>\n",
       "      <th>is_exterior</th>\n",
       "      <th>has_garden</th>\n",
       "      <th>has_pool</th>\n",
       "      <th>has_terrace</th>\n",
       "      <th>has_balcony</th>\n",
       "      <th>has_storage_room</th>\n",
       "      <th>has_green_zones</th>\n",
       "      <th>energy_certificate</th>\n",
       "      <th>has_parking</th>\n",
       "      <th>is_parking_included_in_price</th>\n",
       "      <th>district</th>\n",
       "      <th>price_sqm</th>\n",
       "      <th>year_profit</th>\n",
       "    </tr>\n",
       "  </thead>\n",
       "  <tbody>\n",
       "    <tr>\n",
       "      <th>0</th>\n",
       "      <td>21742</td>\n",
       "      <td>Piso en venta en calle de Godella, 64</td>\n",
       "      <td>San Cristóbal, Madrid</td>\n",
       "      <td>64.0</td>\n",
       "      <td>2.0</td>\n",
       "      <td>1.0</td>\n",
       "      <td>1.0</td>\n",
       "      <td>3</td>\n",
       "      <td>135</td>\n",
       "      <td>sale</td>\n",
       "      <td>471.0</td>\n",
       "      <td>85000.0</td>\n",
       "      <td>HouseType 1: Pisos</td>\n",
       "      <td>False</td>\n",
       "      <td>False</td>\n",
       "      <td>1960.0</td>\n",
       "      <td>not_specified</td>\n",
       "      <td>not_specified</td>\n",
       "      <td>True</td>\n",
       "      <td>False</td>\n",
       "      <td>False</td>\n",
       "      <td>True</td>\n",
       "      <td>False</td>\n",
       "      <td>False</td>\n",
       "      <td>False</td>\n",
       "      <td>False</td>\n",
       "      <td>False</td>\n",
       "      <td>False</td>\n",
       "      <td>D</td>\n",
       "      <td>False</td>\n",
       "      <td>False</td>\n",
       "      <td>Villaverde</td>\n",
       "      <td>1328.125000</td>\n",
       "      <td>6.649412</td>\n",
       "    </tr>\n",
       "    <tr>\n",
       "      <th>1</th>\n",
       "      <td>21741</td>\n",
       "      <td>Piso en venta en calle de la del Manojo de Rosas</td>\n",
       "      <td>Los Ángeles, Madrid</td>\n",
       "      <td>70.0</td>\n",
       "      <td>3.0</td>\n",
       "      <td>1.0</td>\n",
       "      <td>1.0</td>\n",
       "      <td>4</td>\n",
       "      <td>132</td>\n",
       "      <td>sale</td>\n",
       "      <td>666.0</td>\n",
       "      <td>129900.0</td>\n",
       "      <td>HouseType 1: Pisos</td>\n",
       "      <td>True</td>\n",
       "      <td>False</td>\n",
       "      <td>not_specified</td>\n",
       "      <td>not_specified</td>\n",
       "      <td>not_specified</td>\n",
       "      <td>False</td>\n",
       "      <td>True</td>\n",
       "      <td>True</td>\n",
       "      <td>True</td>\n",
       "      <td>False</td>\n",
       "      <td>False</td>\n",
       "      <td>True</td>\n",
       "      <td>False</td>\n",
       "      <td>False</td>\n",
       "      <td>False</td>\n",
       "      <td>en trámite</td>\n",
       "      <td>False</td>\n",
       "      <td>False</td>\n",
       "      <td>Villaverde</td>\n",
       "      <td>1855.714286</td>\n",
       "      <td>6.152425</td>\n",
       "    </tr>\n",
       "    <tr>\n",
       "      <th>2</th>\n",
       "      <td>21740</td>\n",
       "      <td>Piso en venta en calle del Talco, 68</td>\n",
       "      <td>San Andrés, Madrid</td>\n",
       "      <td>94.0</td>\n",
       "      <td>2.0</td>\n",
       "      <td>2.0</td>\n",
       "      <td>1.0</td>\n",
       "      <td>1</td>\n",
       "      <td>134</td>\n",
       "      <td>sale</td>\n",
       "      <td>722.0</td>\n",
       "      <td>144247.0</td>\n",
       "      <td>HouseType 1: Pisos</td>\n",
       "      <td>False</td>\n",
       "      <td>False</td>\n",
       "      <td>not_specified</td>\n",
       "      <td>False</td>\n",
       "      <td>True</td>\n",
       "      <td>False</td>\n",
       "      <td>True</td>\n",
       "      <td>True</td>\n",
       "      <td>True</td>\n",
       "      <td>False</td>\n",
       "      <td>False</td>\n",
       "      <td>False</td>\n",
       "      <td>False</td>\n",
       "      <td>True</td>\n",
       "      <td>False</td>\n",
       "      <td>no indicado</td>\n",
       "      <td>False</td>\n",
       "      <td>False</td>\n",
       "      <td>Villaverde</td>\n",
       "      <td>1534.542553</td>\n",
       "      <td>6.006364</td>\n",
       "    </tr>\n",
       "    <tr>\n",
       "      <th>3</th>\n",
       "      <td>21739</td>\n",
       "      <td>Piso en venta en calle Pedro Jiménez</td>\n",
       "      <td>San Andrés, Madrid</td>\n",
       "      <td>64.0</td>\n",
       "      <td>2.0</td>\n",
       "      <td>1.0</td>\n",
       "      <td>1.0</td>\n",
       "      <td>Bajo</td>\n",
       "      <td>134</td>\n",
       "      <td>sale</td>\n",
       "      <td>583.0</td>\n",
       "      <td>109900.0</td>\n",
       "      <td>HouseType 1: Pisos</td>\n",
       "      <td>False</td>\n",
       "      <td>False</td>\n",
       "      <td>1955.0</td>\n",
       "      <td>not_specified</td>\n",
       "      <td>not_specified</td>\n",
       "      <td>False</td>\n",
       "      <td>False</td>\n",
       "      <td>True</td>\n",
       "      <td>True</td>\n",
       "      <td>False</td>\n",
       "      <td>False</td>\n",
       "      <td>False</td>\n",
       "      <td>False</td>\n",
       "      <td>True</td>\n",
       "      <td>False</td>\n",
       "      <td>en trámite</td>\n",
       "      <td>False</td>\n",
       "      <td>False</td>\n",
       "      <td>Villaverde</td>\n",
       "      <td>1717.187500</td>\n",
       "      <td>6.365787</td>\n",
       "    </tr>\n",
       "    <tr>\n",
       "      <th>4</th>\n",
       "      <td>21738</td>\n",
       "      <td>Piso en venta en carretera de Villaverde a Val...</td>\n",
       "      <td>Los Rosales, Madrid</td>\n",
       "      <td>108.0</td>\n",
       "      <td>2.0</td>\n",
       "      <td>2.0</td>\n",
       "      <td>1.0</td>\n",
       "      <td>4</td>\n",
       "      <td>133</td>\n",
       "      <td>sale</td>\n",
       "      <td>1094.0</td>\n",
       "      <td>260000.0</td>\n",
       "      <td>HouseType 1: Pisos</td>\n",
       "      <td>False</td>\n",
       "      <td>False</td>\n",
       "      <td>2003.0</td>\n",
       "      <td>not_specified</td>\n",
       "      <td>not_specified</td>\n",
       "      <td>True</td>\n",
       "      <td>True</td>\n",
       "      <td>True</td>\n",
       "      <td>True</td>\n",
       "      <td>False</td>\n",
       "      <td>True</td>\n",
       "      <td>False</td>\n",
       "      <td>False</td>\n",
       "      <td>True</td>\n",
       "      <td>True</td>\n",
       "      <td>en trámite</td>\n",
       "      <td>True</td>\n",
       "      <td>True</td>\n",
       "      <td>Villaverde</td>\n",
       "      <td>2407.407407</td>\n",
       "      <td>5.049231</td>\n",
       "    </tr>\n",
       "  </tbody>\n",
       "</table>\n",
       "</div>"
      ],
      "text/plain": [
       "      id                                              title  \\\n",
       "0  21742              Piso en venta en calle de Godella, 64   \n",
       "1  21741   Piso en venta en calle de la del Manojo de Rosas   \n",
       "2  21740               Piso en venta en calle del Talco, 68   \n",
       "3  21739               Piso en venta en calle Pedro Jiménez   \n",
       "4  21738  Piso en venta en carretera de Villaverde a Val...   \n",
       "\n",
       "            neighborhood  sq_mt_built  n_rooms  n_bathrooms  n_floors floor  \\\n",
       "0  San Cristóbal, Madrid         64.0      2.0          1.0       1.0     3   \n",
       "1    Los Ángeles, Madrid         70.0      3.0          1.0       1.0     4   \n",
       "2     San Andrés, Madrid         94.0      2.0          2.0       1.0     1   \n",
       "3     San Andrés, Madrid         64.0      2.0          1.0       1.0  Bajo   \n",
       "4    Los Rosales, Madrid        108.0      2.0          2.0       1.0     4   \n",
       "\n",
       "   neighborhood_id operation  rent_price  buy_price       house_type_id  \\\n",
       "0              135      sale       471.0    85000.0  HouseType 1: Pisos   \n",
       "1              132      sale       666.0   129900.0  HouseType 1: Pisos   \n",
       "2              134      sale       722.0   144247.0  HouseType 1: Pisos   \n",
       "3              134      sale       583.0   109900.0  HouseType 1: Pisos   \n",
       "4              133      sale      1094.0   260000.0  HouseType 1: Pisos   \n",
       "\n",
       "   is_renewal_needed  is_new_development     built_year has_central_heating  \\\n",
       "0              False               False         1960.0       not_specified   \n",
       "1               True               False  not_specified       not_specified   \n",
       "2              False               False  not_specified               False   \n",
       "3              False               False         1955.0       not_specified   \n",
       "4              False               False         2003.0       not_specified   \n",
       "\n",
       "  has_individual_heating  has_ac  has_fitted_wardrobes  has_lift  is_exterior  \\\n",
       "0          not_specified    True                 False     False         True   \n",
       "1          not_specified   False                  True      True         True   \n",
       "2                   True   False                  True      True         True   \n",
       "3          not_specified   False                 False      True         True   \n",
       "4          not_specified    True                  True      True         True   \n",
       "\n",
       "   has_garden  has_pool  has_terrace  has_balcony  has_storage_room  \\\n",
       "0       False     False        False        False             False   \n",
       "1       False     False         True        False             False   \n",
       "2       False     False        False        False              True   \n",
       "3       False     False        False        False              True   \n",
       "4       False      True        False        False              True   \n",
       "\n",
       "   has_green_zones energy_certificate  has_parking  \\\n",
       "0            False                  D        False   \n",
       "1            False         en trámite        False   \n",
       "2            False        no indicado        False   \n",
       "3            False         en trámite        False   \n",
       "4             True         en trámite         True   \n",
       "\n",
       "   is_parking_included_in_price    district    price_sqm  year_profit  \n",
       "0                         False  Villaverde  1328.125000     6.649412  \n",
       "1                         False  Villaverde  1855.714286     6.152425  \n",
       "2                         False  Villaverde  1534.542553     6.006364  \n",
       "3                         False  Villaverde  1717.187500     6.365787  \n",
       "4                          True  Villaverde  2407.407407     5.049231  "
      ]
     },
     "execution_count": 2,
     "metadata": {},
     "output_type": "execute_result"
    }
   ],
   "source": [
    "pd.set_option(\"display.max_columns\", 60)\n",
    "db= pd.read_csv(\"databases/houses_Madrid_2.csv\")\n",
    "db=db.drop(['Unnamed: 0'],axis=1)\n",
    "db.head()"
   ]
  },
  {
   "cell_type": "code",
   "execution_count": 3,
   "id": "b0dd338d",
   "metadata": {},
   "outputs": [
    {
     "data": {
      "text/plain": [
       "array(['Villaverde', 'Vicalvaro', 'Villa de Vallecas', 'Usera', 'Tetuan',\n",
       "       'Retiro', 'Puente de Vallecas', 'Moncloa-Aravaca', 'Moratalaz',\n",
       "       'Latina', 'Fuencarral-Pardo', 'Hortaleza', 'Chamberi',\n",
       "       'Ciudad Lineal', 'Chamartin', 'Centro', 'Carabanchel', 'Salamanca',\n",
       "       'Arganzuela', 'Barajas'], dtype=object)"
      ]
     },
     "execution_count": 3,
     "metadata": {},
     "output_type": "execute_result"
    }
   ],
   "source": [
    "db.district.unique()"
   ]
  },
  {
   "cell_type": "markdown",
   "id": "782451ee",
   "metadata": {},
   "source": [
    "### Creating a model"
   ]
  },
  {
   "cell_type": "code",
   "execution_count": null,
   "id": "7278c376",
   "metadata": {},
   "outputs": [],
   "source": [
    "#This is another interesting part of the project\n",
    "#We create a supervised model which allows us to see, district by district, which prices are overvalued and which are undervalued, as well as to calculate their average price error\n",
    "#This gives us a huge competitive advantage because without having to fully analyze each district's housing stock, we find great opportunities"
   ]
  },
  {
   "cell_type": "code",
   "execution_count": 4,
   "id": "f30147a0",
   "metadata": {},
   "outputs": [],
   "source": [
    "dbModel= db[db.district.isin(['Carabanchel'])]\n"
   ]
  },
  {
   "cell_type": "code",
   "execution_count": 5,
   "id": "4f4b6a88",
   "metadata": {},
   "outputs": [],
   "source": [
    "features_cols = ['sq_mt_built','n_rooms','n_bathrooms','has_lift','rent_price']\n",
    "X = dbModel[features_cols]\n",
    "y = dbModel['buy_price']\n"
   ]
  },
  {
   "cell_type": "code",
   "execution_count": 6,
   "id": "65e4302f",
   "metadata": {},
   "outputs": [
    {
     "data": {
      "text/plain": [
       "sq_mt_built    float64\n",
       "n_rooms        float64\n",
       "n_bathrooms    float64\n",
       "has_lift          bool\n",
       "rent_price     float64\n",
       "dtype: object"
      ]
     },
     "execution_count": 6,
     "metadata": {},
     "output_type": "execute_result"
    }
   ],
   "source": [
    "X.dtypes"
   ]
  },
  {
   "cell_type": "code",
   "execution_count": 7,
   "id": "1f7cdb87",
   "metadata": {},
   "outputs": [],
   "source": [
    "X_train_full, X_test, y_train_full, y_test = train_test_split(X,y, test_size=0.2, random_state=123)\n",
    "X_train, X_val, y_train, y_val = train_test_split(X_train_full, y_train_full, test_size=0.2, random_state=123)\n"
   ]
  },
  {
   "cell_type": "code",
   "execution_count": 8,
   "id": "21d4e976",
   "metadata": {},
   "outputs": [
    {
     "data": {
      "text/plain": [
       "GradientBoostingRegressor()"
      ]
     },
     "execution_count": 8,
     "metadata": {},
     "output_type": "execute_result"
    }
   ],
   "source": [
    "from numpy import mean\n",
    "from numpy import std\n",
    "\n",
    "from sklearn.ensemble import GradientBoostingRegressor\n",
    "\n",
    "\n",
    "from matplotlib import pyplot\n",
    "\n",
    "modelV1 = GradientBoostingRegressor()\n",
    "modelV1.fit(X_train,y_train)\n"
   ]
  },
  {
   "cell_type": "code",
   "execution_count": 9,
   "id": "c1926406",
   "metadata": {},
   "outputs": [],
   "source": [
    "#Evaluacion modelo\n",
    "pred = modelV1.predict(X_val)"
   ]
  },
  {
   "cell_type": "code",
   "execution_count": 10,
   "id": "0f8c2ec2",
   "metadata": {},
   "outputs": [
    {
     "name": "stdout",
     "output_type": "stream",
     "text": [
      "6947.938122664811\n"
     ]
    }
   ],
   "source": [
    "import sklearn\n",
    "import math\n",
    "\n",
    "mse = sklearn.metrics.mean_squared_error(y_val, pred)\n",
    "\n",
    "rmse = math.sqrt(mse)\n",
    "\n",
    "print(rmse)"
   ]
  },
  {
   "cell_type": "code",
   "execution_count": 11,
   "id": "b7e5e765",
   "metadata": {},
   "outputs": [
    {
     "data": {
      "text/plain": [
       "BayesianRidge()"
      ]
     },
     "execution_count": 11,
     "metadata": {},
     "output_type": "execute_result"
    }
   ],
   "source": [
    "from sklearn import linear_model\n",
    "\n",
    "modelV2 = linear_model.BayesianRidge()\n",
    "modelV2.fit(X_train,y_train)"
   ]
  },
  {
   "cell_type": "code",
   "execution_count": 12,
   "id": "5f091032",
   "metadata": {},
   "outputs": [],
   "source": [
    "#Evaluacion modelo\n",
    "predV2 = modelV2.predict(X_val)"
   ]
  },
  {
   "cell_type": "code",
   "execution_count": 13,
   "id": "1818a3b7",
   "metadata": {},
   "outputs": [
    {
     "name": "stdout",
     "output_type": "stream",
     "text": [
      "12194.827737208228\n"
     ]
    }
   ],
   "source": [
    "import sklearn\n",
    "import math\n",
    "\n",
    "mse = sklearn.metrics.mean_squared_error(y_val, predV2)\n",
    "\n",
    "rmse = math.sqrt(mse)\n",
    "\n",
    "print(rmse)"
   ]
  },
  {
   "cell_type": "code",
   "execution_count": null,
   "id": "d4d956e8",
   "metadata": {},
   "outputs": [],
   "source": []
  },
  {
   "cell_type": "code",
   "execution_count": 14,
   "id": "38cc7c6f",
   "metadata": {},
   "outputs": [
    {
     "data": {
      "text/plain": [
       "BayesianRidge()"
      ]
     },
     "execution_count": 14,
     "metadata": {},
     "output_type": "execute_result"
    }
   ],
   "source": [
    "ModelFinal =  linear_model.BayesianRidge()\n",
    "ModelFinal.fit(X_train_full,y_train_full)"
   ]
  },
  {
   "cell_type": "code",
   "execution_count": 15,
   "id": "83394d6d",
   "metadata": {},
   "outputs": [],
   "source": [
    "FinalPreds = ModelFinal.predict(X_test)"
   ]
  },
  {
   "cell_type": "code",
   "execution_count": 16,
   "id": "c591ad6d",
   "metadata": {},
   "outputs": [],
   "source": [
    "dbAnalysis = pd.DataFrame(data = {'Real':y_test,'Pred':FinalPreds})"
   ]
  },
  {
   "cell_type": "code",
   "execution_count": 17,
   "id": "7b6966c0",
   "metadata": {},
   "outputs": [],
   "source": [
    "dbAnalysis['Diff'] = dbAnalysis['Real'] - dbAnalysis['Pred']"
   ]
  },
  {
   "cell_type": "code",
   "execution_count": 18,
   "id": "a1da420b",
   "metadata": {},
   "outputs": [
    {
     "data": {
      "text/html": [
       "<div>\n",
       "<style scoped>\n",
       "    .dataframe tbody tr th:only-of-type {\n",
       "        vertical-align: middle;\n",
       "    }\n",
       "\n",
       "    .dataframe tbody tr th {\n",
       "        vertical-align: top;\n",
       "    }\n",
       "\n",
       "    .dataframe thead th {\n",
       "        text-align: right;\n",
       "    }\n",
       "</style>\n",
       "<table border=\"1\" class=\"dataframe\">\n",
       "  <thead>\n",
       "    <tr style=\"text-align: right;\">\n",
       "      <th></th>\n",
       "      <th>Real</th>\n",
       "      <th>Pred</th>\n",
       "      <th>Diff</th>\n",
       "    </tr>\n",
       "  </thead>\n",
       "  <tbody>\n",
       "    <tr>\n",
       "      <th>17191</th>\n",
       "      <td>110000.0</td>\n",
       "      <td>103688.692856</td>\n",
       "      <td>6311.307144</td>\n",
       "    </tr>\n",
       "    <tr>\n",
       "      <th>15825</th>\n",
       "      <td>143000.0</td>\n",
       "      <td>145012.345634</td>\n",
       "      <td>-2012.345634</td>\n",
       "    </tr>\n",
       "    <tr>\n",
       "      <th>16321</th>\n",
       "      <td>145000.0</td>\n",
       "      <td>147963.703591</td>\n",
       "      <td>-2963.703591</td>\n",
       "    </tr>\n",
       "    <tr>\n",
       "      <th>15803</th>\n",
       "      <td>295000.0</td>\n",
       "      <td>295760.933177</td>\n",
       "      <td>-760.933177</td>\n",
       "    </tr>\n",
       "    <tr>\n",
       "      <th>16743</th>\n",
       "      <td>122500.0</td>\n",
       "      <td>118775.644206</td>\n",
       "      <td>3724.355794</td>\n",
       "    </tr>\n",
       "    <tr>\n",
       "      <th>...</th>\n",
       "      <td>...</td>\n",
       "      <td>...</td>\n",
       "      <td>...</td>\n",
       "    </tr>\n",
       "    <tr>\n",
       "      <th>17269</th>\n",
       "      <td>134000.0</td>\n",
       "      <td>136001.140755</td>\n",
       "      <td>-2001.140755</td>\n",
       "    </tr>\n",
       "    <tr>\n",
       "      <th>16653</th>\n",
       "      <td>198000.0</td>\n",
       "      <td>213279.190995</td>\n",
       "      <td>-15279.190995</td>\n",
       "    </tr>\n",
       "    <tr>\n",
       "      <th>16033</th>\n",
       "      <td>332000.0</td>\n",
       "      <td>334464.418898</td>\n",
       "      <td>-2464.418898</td>\n",
       "    </tr>\n",
       "    <tr>\n",
       "      <th>16084</th>\n",
       "      <td>244000.0</td>\n",
       "      <td>257540.482407</td>\n",
       "      <td>-13540.482407</td>\n",
       "    </tr>\n",
       "    <tr>\n",
       "      <th>16850</th>\n",
       "      <td>110000.0</td>\n",
       "      <td>101276.305043</td>\n",
       "      <td>8723.694957</td>\n",
       "    </tr>\n",
       "  </tbody>\n",
       "</table>\n",
       "<p>302 rows × 3 columns</p>\n",
       "</div>"
      ],
      "text/plain": [
       "           Real           Pred          Diff\n",
       "17191  110000.0  103688.692856   6311.307144\n",
       "15825  143000.0  145012.345634  -2012.345634\n",
       "16321  145000.0  147963.703591  -2963.703591\n",
       "15803  295000.0  295760.933177   -760.933177\n",
       "16743  122500.0  118775.644206   3724.355794\n",
       "...         ...            ...           ...\n",
       "17269  134000.0  136001.140755  -2001.140755\n",
       "16653  198000.0  213279.190995 -15279.190995\n",
       "16033  332000.0  334464.418898  -2464.418898\n",
       "16084  244000.0  257540.482407 -13540.482407\n",
       "16850  110000.0  101276.305043   8723.694957\n",
       "\n",
       "[302 rows x 3 columns]"
      ]
     },
     "execution_count": 18,
     "metadata": {},
     "output_type": "execute_result"
    }
   ],
   "source": [
    "dbAnalysis"
   ]
  },
  {
   "cell_type": "code",
   "execution_count": null,
   "id": "f2bfb770",
   "metadata": {},
   "outputs": [],
   "source": []
  },
  {
   "cell_type": "code",
   "execution_count": 19,
   "id": "d31e91db",
   "metadata": {},
   "outputs": [
    {
     "data": {
      "text/plain": [
       "49681.81078100903"
      ]
     },
     "execution_count": 19,
     "metadata": {},
     "output_type": "execute_result"
    }
   ],
   "source": [
    "dbAnalysis.Diff.max()"
   ]
  },
  {
   "cell_type": "code",
   "execution_count": 20,
   "id": "ae81e6de",
   "metadata": {},
   "outputs": [
    {
     "data": {
      "text/plain": [
       "-24018.606168293394"
      ]
     },
     "execution_count": 20,
     "metadata": {},
     "output_type": "execute_result"
    }
   ],
   "source": [
    "dbAnalysis.Diff.min() #Here we have the example... we find a house undervalued which represent a huge buy opportunity "
   ]
  },
  {
   "cell_type": "code",
   "execution_count": 21,
   "id": "da6c0425",
   "metadata": {},
   "outputs": [
    {
     "data": {
      "text/plain": [
       "-251.39102919963196"
      ]
     },
     "execution_count": 21,
     "metadata": {},
     "output_type": "execute_result"
    }
   ],
   "source": [
    "dbAnalysis.Diff.mean()"
   ]
  },
  {
   "cell_type": "code",
   "execution_count": null,
   "id": "6f4b76a2",
   "metadata": {},
   "outputs": [],
   "source": []
  }
 ],
 "metadata": {
  "kernelspec": {
   "display_name": "Python 3",
   "language": "python",
   "name": "python3"
  },
  "language_info": {
   "codemirror_mode": {
    "name": "ipython",
    "version": 3
   },
   "file_extension": ".py",
   "mimetype": "text/x-python",
   "name": "python",
   "nbconvert_exporter": "python",
   "pygments_lexer": "ipython3",
   "version": "3.8.5"
  }
 },
 "nbformat": 4,
 "nbformat_minor": 5
}
